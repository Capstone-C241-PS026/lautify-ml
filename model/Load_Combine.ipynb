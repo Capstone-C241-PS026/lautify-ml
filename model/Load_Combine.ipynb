{
  "nbformat": 4,
  "nbformat_minor": 0,
  "metadata": {
    "colab": {
      "provenance": []
    },
    "kernelspec": {
      "name": "python3",
      "display_name": "Python 3"
    },
    "language_info": {
      "name": "python"
    }
  },
  "cells": [
    {
      "cell_type": "code",
      "source": [
        "! pip instal torchvision"
      ],
      "metadata": {
        "colab": {
          "base_uri": "https://localhost:8080/"
        },
        "collapsed": true,
        "id": "IAH5_5kH2bNs",
        "outputId": "aa8511a6-50a6-4fd3-99ba-4c4ccb370130"
      },
      "execution_count": null,
      "outputs": [
        {
          "output_type": "stream",
          "name": "stdout",
          "text": [
            "Requirement already satisfied: torchvision in /usr/local/lib/python3.10/dist-packages (0.18.0+cu121)\n",
            "Requirement already satisfied: numpy in /usr/local/lib/python3.10/dist-packages (from torchvision) (1.25.2)\n",
            "Requirement already satisfied: torch==2.3.0 in /usr/local/lib/python3.10/dist-packages (from torchvision) (2.3.0+cu121)\n",
            "Requirement already satisfied: pillow!=8.3.*,>=5.3.0 in /usr/local/lib/python3.10/dist-packages (from torchvision) (9.4.0)\n",
            "Requirement already satisfied: filelock in /usr/local/lib/python3.10/dist-packages (from torch==2.3.0->torchvision) (3.14.0)\n",
            "Requirement already satisfied: typing-extensions>=4.8.0 in /usr/local/lib/python3.10/dist-packages (from torch==2.3.0->torchvision) (4.12.2)\n",
            "Requirement already satisfied: sympy in /usr/local/lib/python3.10/dist-packages (from torch==2.3.0->torchvision) (1.12.1)\n",
            "Requirement already satisfied: networkx in /usr/local/lib/python3.10/dist-packages (from torch==2.3.0->torchvision) (3.3)\n",
            "Requirement already satisfied: jinja2 in /usr/local/lib/python3.10/dist-packages (from torch==2.3.0->torchvision) (3.1.4)\n",
            "Requirement already satisfied: fsspec in /usr/local/lib/python3.10/dist-packages (from torch==2.3.0->torchvision) (2023.6.0)\n",
            "Collecting nvidia-cuda-nvrtc-cu12==12.1.105 (from torch==2.3.0->torchvision)\n",
            "  Using cached nvidia_cuda_nvrtc_cu12-12.1.105-py3-none-manylinux1_x86_64.whl (23.7 MB)\n",
            "Collecting nvidia-cuda-runtime-cu12==12.1.105 (from torch==2.3.0->torchvision)\n",
            "  Using cached nvidia_cuda_runtime_cu12-12.1.105-py3-none-manylinux1_x86_64.whl (823 kB)\n",
            "Collecting nvidia-cuda-cupti-cu12==12.1.105 (from torch==2.3.0->torchvision)\n",
            "  Using cached nvidia_cuda_cupti_cu12-12.1.105-py3-none-manylinux1_x86_64.whl (14.1 MB)\n",
            "Collecting nvidia-cudnn-cu12==8.9.2.26 (from torch==2.3.0->torchvision)\n",
            "  Using cached nvidia_cudnn_cu12-8.9.2.26-py3-none-manylinux1_x86_64.whl (731.7 MB)\n",
            "Collecting nvidia-cublas-cu12==12.1.3.1 (from torch==2.3.0->torchvision)\n",
            "  Using cached nvidia_cublas_cu12-12.1.3.1-py3-none-manylinux1_x86_64.whl (410.6 MB)\n",
            "Collecting nvidia-cufft-cu12==11.0.2.54 (from torch==2.3.0->torchvision)\n",
            "  Using cached nvidia_cufft_cu12-11.0.2.54-py3-none-manylinux1_x86_64.whl (121.6 MB)\n",
            "Collecting nvidia-curand-cu12==10.3.2.106 (from torch==2.3.0->torchvision)\n",
            "  Using cached nvidia_curand_cu12-10.3.2.106-py3-none-manylinux1_x86_64.whl (56.5 MB)\n",
            "Collecting nvidia-cusolver-cu12==11.4.5.107 (from torch==2.3.0->torchvision)\n",
            "  Using cached nvidia_cusolver_cu12-11.4.5.107-py3-none-manylinux1_x86_64.whl (124.2 MB)\n",
            "Collecting nvidia-cusparse-cu12==12.1.0.106 (from torch==2.3.0->torchvision)\n",
            "  Using cached nvidia_cusparse_cu12-12.1.0.106-py3-none-manylinux1_x86_64.whl (196.0 MB)\n",
            "Collecting nvidia-nccl-cu12==2.20.5 (from torch==2.3.0->torchvision)\n",
            "  Using cached nvidia_nccl_cu12-2.20.5-py3-none-manylinux2014_x86_64.whl (176.2 MB)\n",
            "Collecting nvidia-nvtx-cu12==12.1.105 (from torch==2.3.0->torchvision)\n",
            "  Using cached nvidia_nvtx_cu12-12.1.105-py3-none-manylinux1_x86_64.whl (99 kB)\n",
            "Requirement already satisfied: triton==2.3.0 in /usr/local/lib/python3.10/dist-packages (from torch==2.3.0->torchvision) (2.3.0)\n",
            "Collecting nvidia-nvjitlink-cu12 (from nvidia-cusolver-cu12==11.4.5.107->torch==2.3.0->torchvision)\n",
            "  Downloading nvidia_nvjitlink_cu12-12.5.40-py3-none-manylinux2014_x86_64.whl (21.3 MB)\n",
            "\u001b[2K     \u001b[90m━━━━━━━━━━━━━━━━━━━━━━━━━━━━━━━━━━━━━━━━\u001b[0m \u001b[32m21.3/21.3 MB\u001b[0m \u001b[31m29.2 MB/s\u001b[0m eta \u001b[36m0:00:00\u001b[0m\n",
            "\u001b[?25hRequirement already satisfied: MarkupSafe>=2.0 in /usr/local/lib/python3.10/dist-packages (from jinja2->torch==2.3.0->torchvision) (2.1.5)\n",
            "Requirement already satisfied: mpmath<1.4.0,>=1.1.0 in /usr/local/lib/python3.10/dist-packages (from sympy->torch==2.3.0->torchvision) (1.3.0)\n",
            "Installing collected packages: nvidia-nvtx-cu12, nvidia-nvjitlink-cu12, nvidia-nccl-cu12, nvidia-curand-cu12, nvidia-cufft-cu12, nvidia-cuda-runtime-cu12, nvidia-cuda-nvrtc-cu12, nvidia-cuda-cupti-cu12, nvidia-cublas-cu12, nvidia-cusparse-cu12, nvidia-cudnn-cu12, nvidia-cusolver-cu12\n",
            "Successfully installed nvidia-cublas-cu12-12.1.3.1 nvidia-cuda-cupti-cu12-12.1.105 nvidia-cuda-nvrtc-cu12-12.1.105 nvidia-cuda-runtime-cu12-12.1.105 nvidia-cudnn-cu12-8.9.2.26 nvidia-cufft-cu12-11.0.2.54 nvidia-curand-cu12-10.3.2.106 nvidia-cusolver-cu12-11.4.5.107 nvidia-cusparse-cu12-12.1.0.106 nvidia-nccl-cu12-2.20.5 nvidia-nvjitlink-cu12-12.5.40 nvidia-nvtx-cu12-12.1.105\n",
            "Collecting onnx\n",
            "  Downloading onnx-1.16.1-cp310-cp310-manylinux_2_17_x86_64.manylinux2014_x86_64.whl (15.9 MB)\n",
            "\u001b[2K     \u001b[90m━━━━━━━━━━━━━━━━━━━━━━━━━━━━━━━━━━━━━━━━\u001b[0m \u001b[32m15.9/15.9 MB\u001b[0m \u001b[31m50.4 MB/s\u001b[0m eta \u001b[36m0:00:00\u001b[0m\n",
            "\u001b[?25hRequirement already satisfied: numpy>=1.20 in /usr/local/lib/python3.10/dist-packages (from onnx) (1.25.2)\n",
            "Requirement already satisfied: protobuf>=3.20.2 in /usr/local/lib/python3.10/dist-packages (from onnx) (3.20.3)\n",
            "Installing collected packages: onnx\n",
            "Successfully installed onnx-1.16.1\n"
          ]
        }
      ]
    },
    {
      "cell_type": "code",
      "source": [
        "from google.colab import drive\n",
        "\n",
        "drive.mount('/content/drive')"
      ],
      "metadata": {
        "colab": {
          "base_uri": "https://localhost:8080/"
        },
        "id": "-qXBJohkzQGB",
        "outputId": "a94b65fe-645e-46a1-fc36-31947c3b11a7"
      },
      "execution_count": null,
      "outputs": [
        {
          "output_type": "stream",
          "name": "stdout",
          "text": [
            "Mounted at /content/drive\n"
          ]
        }
      ]
    },
    {
      "cell_type": "code",
      "source": [
        "import cv2\n",
        "import numpy as np\n",
        "import tensorflow as tf\n",
        "import torch\n",
        "from tensorflow.keras.models import load_model\n",
        "from google.colab.patches import cv2_imshow\n",
        "\n",
        "class  FishFreshnessModel:\n",
        "  def __init__(self, detection_model_path, classification_model_path, classify_fish_path):\n",
        "    # Muat model YOLOv5 untuk pendeteksian mata mandiri\n",
        "    self.detection_model = torch.hub.load('ultralytics/yolov5', 'custom', path=detection_model_path)\n",
        "    # Muat model klasifikasi terlatih mandiri\n",
        "    self.classification_model = load_model(classification_model_path)\n",
        "    # Muat model untuk mengklasifikasikan diri ikan\n",
        "    self.classify_fish_model = load_model(classify_fish_path)\n",
        "\n",
        "\n",
        "  def preprocess_image(self, image):\n",
        "    # Preprocess the image to fit the classification model input\n",
        "    img = cv2.cvtColor(image, cv2.COLOR_BGR2RGB)\n",
        "    img = cv2.resize(img, (128, 128))\n",
        "    img = img/255.0\n",
        "    img = np.expand_dims(img, axis=0)\n",
        "    return  img\n",
        "\n",
        "  def detect_eye_and_classify_freshness(self, image_path):\n",
        "    # Read the image\n",
        "    img = cv2.imread(image_path)\n",
        "    if img is None:\n",
        "      raise FileNotFoundError(f\"Gambar di jalur'{image_path}' tidak ditemukan atau tidak dapat dibaca.\")\n",
        "\n",
        "    # Perform object detection to find the fish eye\n",
        "    results = self.detection_model(img)\n",
        "\n",
        "    # Check if any detections were made\n",
        "    if len(results.xyxy[0]) == 0:\n",
        "      raise ValueError(\"Tidak ada mata ikan yang terdeteksi pada gambar.\")\n",
        "\n",
        "    # Loop over the detections\n",
        "    for det in results.xyxy[0]:\n",
        "      xmin, ymin, xmax, ymax, conf, cls = det\n",
        "\n",
        "      # Crop the detected eye region\n",
        "      cropped_eye = img [int(ymin): int(ymax), int (xmin):int(xmax)]\n",
        "\n",
        "      # Preprocess the cropped eye image\n",
        "      processed_eye = self.preprocess_image(cropped_eye)\n",
        "\n",
        "      # Classify the freshness of the fish\n",
        "      prediction = self.classification_model.predict(processed_eye)\n",
        "      predicted_class = np.argmax(prediction, axis=1)\n",
        "\n",
        "      # Map prediction to class label\n",
        "      class_labels =  ['Fresh', 'Not Fresh']\n",
        "      freshness = class_labels[predicted_class[0]]\n",
        "\n",
        "      # Preprocess image for fish kind classification\n",
        "      processed_image = self.preprocess_image(img)\n",
        "\n",
        "      # Classify the kind of fish\n",
        "      fish_prediction = self.classify_fish_model.predict(processed_image)\n",
        "      fish_class = np.argmax(fish_prediction, axis=1)\n",
        "\n",
        "      fish_labels= ['bawal putih' , 'kakap merah' , 'tenggiri' , 'kembung' , 'kerapu' , 'gole gole' , 'gembolo' , 'cakalang' , 'belato' , 'tongkol']\n",
        "      fish_kind = fish_labels[fish_class[0]]\n",
        "\n",
        "      # Draw the bounding box and label on the original image\n",
        "      cv2.rectangle(img, (int(xmin), int(ymin)), (int(xmax), int(ymax)), (255, 0, 0), 2)\n",
        "      cv2.putText(img, freshness, (int(xmin), int(ymin)-10), cv2.FONT_HERSHEY_SIMPLEX, 0.9, (36, 255, 12), 2)\n",
        "      cv2.putText(img, f'Jenis:{fish_class} ', (int(xmin), int(ymin)-40), cv2.FONT_HERSHEY_SIMPLEX, 0.6, (36, 255, 12), 2)\n",
        "\n",
        "    # Display the image with the result using cv2_imshow for Colab\n",
        "    cv2_imshow(img)\n",
        "\n",
        "    return freshness, fish_kind\n",
        "\n",
        "# Tetapkan jalur yang benar untuk model\n",
        "detection_model_path = '/content/drive/MyDrive/datasetCapstone/best.pt'\n",
        "classification_model_path = '/content/drive/MyDrive/datasetCapstone/fish_freshness_model_1.h5'\n",
        "classify_fish_path = '/content/drive/MyDrive/datasetCapstone/saved_model/my_model_klasifikasi_128.h5'\n",
        "\n",
        "# Buat instance model gabungan\n",
        "combined_model = FishFreshnessModel(detection_model_path, classification_model_path, classify_fish_path)\n",
        "\n",
        "# Uji model gabungan\n",
        "test_image_path =  '/content/drive/MyDrive/datasetCapstone/gembolo2.jpeg'\n",
        "freshness, fish_kind = combined_model.detect_eye_and_classify_freshness(test_image_path)\n",
        "print (f'Freshness: {freshness}, Jenis: {fish_kind}')"
      ],
      "metadata": {
        "id": "mWTZxbBJ_u9j"
      },
      "execution_count": null,
      "outputs": []
    }
  ]
}